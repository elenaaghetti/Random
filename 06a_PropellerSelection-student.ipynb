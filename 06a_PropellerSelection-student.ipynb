{
 "cells": [
  {
   "cell_type": "markdown",
   "metadata": {
    "slideshow": {
     "slide_type": "slide"
    }
   },
   "source": [
    "<img src=\"./pictures/logo-insa.png\" style=\"float:right; max-width: 60px; display: inline\" alt=\"INSA\" /></a>"
   ]
  },
  {
   "cell_type": "markdown",
   "metadata": {
    "slideshow": {
     "slide_type": "slide"
    }
   },
   "source": [
    "# Propeller selection\n",
    "*Written by Marc Budinger, INSA Toulouse, France*"
   ]
  },
  {
   "cell_type": "markdown",
   "metadata": {
    "slideshow": {
     "slide_type": "slide"
    }
   },
   "source": [
    "## Design graph \n",
    "\n",
    "The following diagram represents the design graph of the propeller’s selection. The max thrust is assumed to be known here.\n",
    "\n",
    "\n",
    "![DesignGraph](pictures/PropellerDesignGraph.png)\n",
    "\n",
    "> **Questions:**\n",
    "* Give the main sizing problems you are able to detect.\n",
    "* Propose one or multiple solutions (which can request equation manipulation, addition of design variables, addition of constraints) \n",
    "* Orientate the arrows\n",
    "* Give equations order, inputs/outputs at each step of this part of sizing procedure\n",
    "\n"
   ]
  },
  {
   "cell_type": "markdown",
   "metadata": {},
   "source": [
    "### Sizing code and optimization\n",
    "\n",
    "> Exercice: propose a sizing code for the selection of a propeller.\n"
   ]
  },
  {
   "cell_type": "code",
   "execution_count": 1,
   "metadata": {},
   "outputs": [],
   "source": [
    "from utils.model_standard import CoreModel\n",
    "from utils.model_serializer import ModelSerializer"
   ]
  },
  {
   "cell_type": "code",
   "execution_count": 2,
   "metadata": {},
   "outputs": [],
   "source": [
    "class PropellerModel(CoreModel):\n",
    "    \"\"\"\n",
    "    Propeller model class.\n",
    "    ----------\n",
    "    \"\"\"\n",
    "\n",
    "    def __init__(self, **kwargs):\n",
    "        super(PropellerModel, self).__init__(**kwargs)\n",
    "        self.initialization()\n",
    "        self.execute()\n",
    "        self._update()\n",
    "\n",
    "    def initialization(self):\n",
    "        \n",
    "        # Input variables\n",
    "        inputs = {'k_ND': 1.0, 'beta': 0.5, 'Tpro_takeoff': 15.0, 'Tpro_hover': 5.0}\n",
    "        self.set_inputs(inputs)\n",
    "        \n",
    "        # Input parameters\n",
    "        \n",
    "        # Propeller selection\n",
    "        # ---\n",
    "        rho_air=1.18 # [kg/m^3] air density \n",
    "        NDmax=105000/60*.0254 # [Hz.m] max speed limit (N.D max)\n",
    "        Dpro_ref=11*.0254 # [m] diameter\n",
    "        Mpro_ref=0.53*0.0283 # [kg] mass\n",
    "        \n",
    "        inputs = {'rho_air': rho_air, 'NDmax': NDmax, 'Dpro_ref': Dpro_ref, 'Mpro_ref': Mpro_ref}\n",
    "        self.set_inputs(inputs)\n",
    "               \n",
    "        # Declare outputs\n",
    "        outputs = ['C_t', 'C_p', 'Dpro', 'n_pro_takeoff', 'Wpro_takeoff', 'Mpro', 'Ppro_takeoff', 'Qpro_takeoff', 'P_el_hover', 'n_pro_hover', 'Wpro_hover', 'Ppro_hover', 'Qpro_hover']   \n",
    "        self.declare_outputs(outputs)\n",
    "\n",
    "    def execute(self):\n",
    "        \n",
    "        # Get input values\n",
    "        k_ND, beta, Tpro_takeoff, Tpro_hover = self.get_values(['k_ND', 'beta', 'Tpro_takeoff', 'Tpro_hover'])\n",
    "        \n",
    "        rho_air, NDmax, Dpro_ref, Mpro_ref = self.get_values(['rho_air', 'NDmax', 'Dpro_ref', 'Mpro_ref'])\n",
    "\n",
    "        \n",
    "        #######\n",
    "        \n",
    "        C_t = 4.27e-02 + 1.44e-01 * beta \n",
    "        \n",
    "        #security coefficient\n",
    "        ND = k_ND*NDmax   #on suppose donc k_ND compris entre 0 et 1\n",
    "        \n",
    "        #C_t = Tpro_takeoff/(rho_air*NDmax**2*Dpro_ref**2)\n",
    "        Dpro = (Tpro_takeoff/(C_t*rho_air*ND**2))**(1/2)  #diamètre de l'hélice permettant de générer l'effort requis\n",
    "        n_pro_takeoff = ND/Dpro\n",
    "        \n",
    "        C_p = -1.48e-03 + 9.72e-02 * beta\n",
    "        \n",
    "        Ppro_takeoff = C_p*rho_air*n_pro_takeoff**2*Dpro**4 #puissance développée\n",
    "        \n",
    "        Wpro_takeoff = 2*3.1416*n_pro_takeoff  #vitesse de rotation\n",
    "        Qpro_takeoff= Ppro_takeoff/(Wpro_takeoff) #couple \n",
    "        \n",
    "        Mpro = Dpro**2  #loi de masse\n",
    "        \n",
    "        #caractéristiques du propeller en phase hover\n",
    "        Dpro_hover = (Tpro_hover/(C_t*rho_air*ND**2))**(1/2)\n",
    "        n_pro_hover = ND/Dpro_hover  \n",
    "        Ppro_hover = C_p*rho_air*n_pro_hover**2*Dpro_hover**4\n",
    "        Wpro_hover = 2*3.1416*n_pro_hover   \n",
    "        Qpro_hover= Ppro_hover/(Wpro_hover)\n",
    "        \n",
    "        ########\n",
    "        \n",
    "        outputs = {'C_t': C_t, 'C_p': C_p, 'Dpro': Dpro, 'n_pro_takeoff': n_pro_takeoff, 'Wpro_takeoff': Wpro_takeoff, 'Mpro': Mpro}\n",
    "        self.set_outputs(outputs)\n",
    "        \n",
    "        outputs = {'Ppro_takeoff': Ppro_takeoff, 'Qpro_takeoff': Qpro_takeoff}\n",
    "        self.set_outputs(outputs)\n",
    "        \n",
    "        outputs = {'n_pro_hover': n_pro_hover, 'Wpro_hover': Wpro_hover, 'Ppro_hover': Ppro_hover, 'Qpro_hover': Qpro_hover}\n",
    "        self.set_outputs(outputs)\n",
    "        \n",
    "    def __str__(self):\n",
    "        \n",
    "        s =((\"* Propellers informations: \\n\") +\n",
    "            (\"** Global: \\n\") + \n",
    "            (\"    NxD takeoff = %.0f RPMxInch\"%(self.get_values(['n_pro_takeoff'])*60*self.get_values(['Dpro'])/.0254) + \"\\n\") +\n",
    "            (\"    Diameter Dpro = %.2g m or %.2f in\"%((self.get_values(['Dpro']), self.get_values(['Dpro'])/.0254)) + \"\\n\") +\n",
    "            (\"    Pitch  = %.2g m or %.2f in\"%(self.get_values(['beta'])*self.get_values(['Dpro']), self.get_values(['beta'])*self.get_values(['Dpro'])/.0254) + \"\\n\") +\n",
    "            (\"    Propeller mass (1x): %.3f kg\"%(self.get_values(['Mpro'])) + \"\\n\") +\n",
    "            (\"** Aerodynamics: \\n\") +\n",
    "            (\"    Power coefficient C_p: - for statics: %.4f \"%(self.get_values(['C_p'])) + \"\\n\") +\n",
    "            (\"    Thrust coefficient C_t: - for statics: %.4f \"%(self.get_values(['C_t']))+ \"\\n\") +\n",
    "            (\"** Rotational speeds: \\n\") +\n",
    "            (\"    - for hover: %.0f RPM \"%(self.get_values(['Wpro_hover'])*60/2/3.1416) + \"\\n\") +\n",
    "            (\"    - for vertical acceleration: %.0f RPM \"%(self.get_values(['Wpro_takeoff'])*60/2/3.14) + \"\\n\")\n",
    "           )\n",
    "        return s\n",
    "        "
   ]
  },
  {
   "cell_type": "code",
   "execution_count": 3,
   "metadata": {},
   "outputs": [
    {
     "name": "stdout",
     "output_type": "stream",
     "text": [
      "* Propellers informations: \n",
      "** Global: \n",
      "    NxD takeoff = 105000 RPMxInch\n",
      "    Diameter Dpro = 0.24 m or 9.32 in\n",
      "    Pitch  = 0.12 m or 4.66 in\n",
      "    Propeller mass (1x): 0.056 kg\n",
      "** Aerodynamics: \n",
      "    Power coefficient C_p: - for statics: 0.0471 \n",
      "    Thrust coefficient C_t: - for statics: 0.1147 \n",
      "** Rotational speeds: \n",
      "    - for hover: 19504 RPM \n",
      "    - for vertical acceleration: 11267 RPM \n",
      "\n",
      "* Propellers informations: \n",
      "** Global: \n",
      "    NxD takeoff = 105000 RPMxInch\n",
      "    Diameter Dpro = 0.31 m or 12.04 in\n",
      "    Pitch  = 0.15 m or 6.02 in\n",
      "    Propeller mass (1x): 0.093 kg\n",
      "** Aerodynamics: \n",
      "    Power coefficient C_p: - for statics: 0.0471 \n",
      "    Thrust coefficient C_t: - for statics: 0.1147 \n",
      "** Rotational speeds: \n",
      "    - for hover: 19504 RPM \n",
      "    - for vertical acceleration: 8727 RPM \n",
      "\n"
     ]
    }
   ],
   "source": [
    "propeller_model = PropellerModel()\n",
    "\n",
    "print(propeller_model)\n",
    "\n",
    "inputs = {'Tpro_takeoff': 25.0}\n",
    "\n",
    "propeller_model.evaluate(inputs, [])\n",
    "\n",
    "print(propeller_model)"
   ]
  },
  {
   "cell_type": "code",
   "execution_count": 4,
   "metadata": {},
   "outputs": [
    {
     "name": "stdout",
     "output_type": "stream",
     "text": [
      "* Propellers informations: \n",
      "** Global: \n",
      "    NxD takeoff = 105000 RPMxInch\n",
      "    Diameter Dpro = 0.24 m or 9.32 in\n",
      "    Pitch  = 0.12 m or 4.66 in\n",
      "    Propeller mass (1x): 0.056 kg\n",
      "** Aerodynamics: \n",
      "    Power coefficient C_p: - for statics: 0.0471 \n",
      "    Thrust coefficient C_t: - for statics: 0.1147 \n",
      "** Rotational speeds: \n",
      "    - for hover: 19504 RPM \n",
      "    - for vertical acceleration: 11267 RPM \n",
      "\n"
     ]
    }
   ],
   "source": [
    "propeller_model = PropellerModel()\n",
    "\n",
    "print(propeller_model)\n",
    "\n",
    "ms = ModelSerializer()\n",
    "path = './models_student/'\n",
    "file_name = 'propeller_model'\n",
    "ms.save_model(propeller_model, path + file_name)\n",
    "    "
   ]
  },
  {
   "cell_type": "code",
   "execution_count": 5,
   "metadata": {},
   "outputs": [],
   "source": [
    "new_model = ms.load_model(path + file_name)"
   ]
  },
  {
   "cell_type": "markdown",
   "metadata": {},
   "source": [
    "### Commentaires sur le propeller : \n",
    "- fonction : créer de la poussée \n",
    "- imperfections : rendement propulsif (discload) qu'il faut garder suffisamment bon \n",
    "- quand la vitesse augmente avec le Mach qui tend vers 1, le couple et la puissance deviennent trop importants, on a donc une limite en vitesse de rotation\n",
    "- scénarios : pour le take-off, les performances peuvent être dégradées et c'est la phase dimensionnante ; pour le vol stationnaire, on veut surtout avoir un bon rendement et une autonomie importante \n"
   ]
  },
  {
   "cell_type": "code",
   "execution_count": null,
   "metadata": {},
   "outputs": [],
   "source": []
  }
 ],
 "metadata": {
  "celltoolbar": "Slideshow",
  "kernelspec": {
   "display_name": "Python 3",
   "language": "python",
   "name": "python3"
  },
  "language_info": {
   "codemirror_mode": {
    "name": "ipython",
    "version": 3
   },
   "file_extension": ".py",
   "mimetype": "text/x-python",
   "name": "python",
   "nbconvert_exporter": "python",
   "pygments_lexer": "ipython3",
   "version": "3.7.1"
  }
 },
 "nbformat": 4,
 "nbformat_minor": 2
}
