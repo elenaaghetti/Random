{
 "cells": [
  {
   "cell_type": "markdown",
   "metadata": {},
   "source": [
    "<img src=\"./pictures/logo-insa.png\" style=\"float:right; max-width: 60px; display: inline\" alt=\"INSA\" /></a>\n"
   ]
  },
  {
   "cell_type": "markdown",
   "metadata": {
    "slideshow": {
     "slide_type": "fragment"
    }
   },
   "source": [
    "# Propellers estimation models with dimensional analysis and linear regressions\n",
    "\n",
    "*Written by Marc Budinger, INSA Toulouse, France*\n",
    "\n",
    "Propellers characteristics can be expressed by $C_T$ and $C_P$ coefficients. This coefficients are function of dimensions and conditions of use of propellers.  Dimensional analysis and linear regression of suppliers data can be used for the generation of $C_T$ and $C_P$ prediction models. \n",
    "\n",
    "*APC MR (Multi-Rotor) propellers*\n",
    "<center>![Heatsink](pictures/apc-mr-props.jpg)</center>\n"
   ]
  },
  {
   "cell_type": "markdown",
   "metadata": {},
   "source": [
    "## Dimensional analysis and $\\pi$ numbers\n",
    "\n",
    "The propeller performances can be expressed with 2 aerodynamic coefficients:\n",
    "- The thrust: $T = C_{T} \\rho n^2 D^4$  \n",
    "- The power: $P = C_{P} \\rho n^3 D^5 $\n",
    "\n",
    "The [dimensional analysis]([https://web.mit.edu/16.unified/www/FALL/thermodynamics/notes/node86.html#SECTION06374000000000000000]) and especially the [Buckingham $\\pi$ theorem](https://en.wikipedia.org/wiki/Buckingham_%CF%80_theorem) enable to find this results.\n"
   ]
  },
  {
   "cell_type": "markdown",
   "metadata": {},
   "source": [
    "#### Dimensional analysis of the propeller thrust  \n",
    "\n",
    "The thrust $T$ of a propeller depends of multiple parameters (geometrical dimensions, air properties, operational points):  \n",
    "$T=f(\\rho,n,D,pitch,V,\\beta)$   \n",
    "with the parameters express in the following table.\n",
    "\n",
    "Parameter|M|L|T|\n",
    "--|--|--|--\n",
    "Thrust $T$ [N] | 1|1|-2\n",
    "Mass volumic (Air) $\\rho$ [kg/m$^3$]| 1 | -3 | 0|\n",
    "Rotational speed $n$ [Hz] | 0 | 0 | -1|\n",
    "Diameter $D$ [m] | 0| 1 | 0|\n",
    "Pitch $Pitch$ [m] | 0 | 1 | 0|\n",
    "Drone speed $V$ [m/s] | 0 | 1 | -1|\n",
    "Air bulk modulus $\\beta$ [m/s] | 1 | -1 | -2|\n",
    "$=\\pi_0$|  |  |  |\n",
    "$=\\pi_1$|  |  |  |\n",
    "$=\\pi_2$|  |  |  |\n",
    "$=\\pi_3$|  |  |  |\n",
    "\n",
    "\n",
    "**Remark**: The dimension of a parameter $x$ is function of dimensions L,M and T : $[x]=M^aL^bT^c$.  The previous table gives the value of $a$, $b$ and $c$ for each parameter of the problem. \n",
    "\n",
    "> **Exercice**: Complete the table with 4 dimensionless $\\pi$ numbers possible for the given problem. Explain the number of dimensionless number.\n"
   ]
  },
  {
   "cell_type": "markdown",
   "metadata": {},
   "source": [
    "**Answer:**\n",
    "\n",
    "Buckingham $\\pi$ theorem: 7 parameters - 3 dimensions = 4 dimensionless $\\pi$ numbers\n",
    "\n",
    "Parameter|M|L|T|\n",
    "--|--|--|--\n",
    "Thrust $T$ [N] | 1|1|-2\n",
    "Mass volumic (Air) $\\rho$ [kg/m$^3$]| 1 | -3 | 0|\n",
    "Rotational speed $n$ [Hz] | 0 | 0 | -1|\n",
    "Diameter $D$ [m] | 0| 1 | 0|\n",
    "Pitch $Pitch$ [m] | 0 | 1 | 0|\n",
    "Drone speed $V$ [m/s] | 0 | 1 | -1|\n",
    "Air bulk modulus $V$ [Pa] | 1 | -1 | -2|\n",
    "$C_t=\\frac{T}{\\rho n^2D^4}=\\pi_0$| 0 | 0 | 0 |\n",
    "$\\frac{Pitch}{D}=\\pi_1$| 0 | 0 | 0 |\n",
    "$J=\\frac{V}{nD}=\\pi_2$| 0 | 0 | 0 |\n",
    "$\\frac{\\rho n^2D^2}{\\beta}=\\pi_3$| 0 | 0 | 0 |\n"
   ]
  },
  {
   "cell_type": "markdown",
   "metadata": {},
   "source": [
    "#### Effect of the rotational speed  \n",
    "\n",
    "APC suppliers give complete [propeller data](https://www.apcprop.com/technical-information/) for all their propellers. From the file *APC_STATIC-data-all-props.csv*, we find all static data provided by APC:"
   ]
  },
  {
   "cell_type": "code",
   "execution_count": 1,
   "metadata": {},
   "outputs": [
    {
     "data": {
      "text/html": [
       "<div>\n",
       "<style scoped>\n",
       "    .dataframe tbody tr th:only-of-type {\n",
       "        vertical-align: middle;\n",
       "    }\n",
       "\n",
       "    .dataframe tbody tr th {\n",
       "        vertical-align: top;\n",
       "    }\n",
       "\n",
       "    .dataframe thead th {\n",
       "        text-align: right;\n",
       "    }\n",
       "</style>\n",
       "<table border=\"1\" class=\"dataframe\">\n",
       "  <thead>\n",
       "    <tr style=\"text-align: right;\">\n",
       "      <th></th>\n",
       "      <th>LINE</th>\n",
       "      <th>COMP</th>\n",
       "      <th>TYPE</th>\n",
       "      <th>RPM</th>\n",
       "      <th>DIAMETER(IN)</th>\n",
       "      <th>PITCH(IN)</th>\n",
       "      <th>BLADE(nb)</th>\n",
       "      <th>THRUST(LBF)</th>\n",
       "      <th>POWER(HP)</th>\n",
       "      <th>TORQUE(IN.LBF)</th>\n",
       "      <th>Cp</th>\n",
       "      <th>Ct</th>\n",
       "      <th>AREA(m^2)</th>\n",
       "      <th>THRUST(N)</th>\n",
       "      <th>POWER(W)</th>\n",
       "      <th>ANGLE</th>\n",
       "      <th>EFF</th>\n",
       "      <th>N.D</th>\n",
       "    </tr>\n",
       "  </thead>\n",
       "  <tbody>\n",
       "    <tr>\n",
       "      <th>0</th>\n",
       "      <td>1</td>\n",
       "      <td>1</td>\n",
       "      <td>NaN</td>\n",
       "      <td>1000</td>\n",
       "      <td>10.5</td>\n",
       "      <td>4.5</td>\n",
       "      <td>2</td>\n",
       "      <td>0.03</td>\n",
       "      <td>0.01</td>\n",
       "      <td>0.02</td>\n",
       "      <td>0.03</td>\n",
       "      <td>0.08</td>\n",
       "      <td>0.06</td>\n",
       "      <td>0.1335</td>\n",
       "      <td>7.457</td>\n",
       "      <td>0.43</td>\n",
       "      <td>60.180222</td>\n",
       "      <td>10500.0</td>\n",
       "    </tr>\n",
       "    <tr>\n",
       "      <th>1</th>\n",
       "      <td>2</td>\n",
       "      <td>1</td>\n",
       "      <td>NaN</td>\n",
       "      <td>2000</td>\n",
       "      <td>10.5</td>\n",
       "      <td>4.5</td>\n",
       "      <td>2</td>\n",
       "      <td>0.13</td>\n",
       "      <td>0.01</td>\n",
       "      <td>0.08</td>\n",
       "      <td>0.03</td>\n",
       "      <td>0.08</td>\n",
       "      <td>0.06</td>\n",
       "      <td>0.5785</td>\n",
       "      <td>7.457</td>\n",
       "      <td>0.43</td>\n",
       "      <td>60.180222</td>\n",
       "      <td>21000.0</td>\n",
       "    </tr>\n",
       "    <tr>\n",
       "      <th>2</th>\n",
       "      <td>3</td>\n",
       "      <td>1</td>\n",
       "      <td>NaN</td>\n",
       "      <td>3000</td>\n",
       "      <td>10.5</td>\n",
       "      <td>4.5</td>\n",
       "      <td>2</td>\n",
       "      <td>0.29</td>\n",
       "      <td>0.01</td>\n",
       "      <td>0.17</td>\n",
       "      <td>0.03</td>\n",
       "      <td>0.08</td>\n",
       "      <td>0.06</td>\n",
       "      <td>1.2905</td>\n",
       "      <td>7.457</td>\n",
       "      <td>0.43</td>\n",
       "      <td>60.180222</td>\n",
       "      <td>31500.0</td>\n",
       "    </tr>\n",
       "    <tr>\n",
       "      <th>3</th>\n",
       "      <td>4</td>\n",
       "      <td>1</td>\n",
       "      <td>NaN</td>\n",
       "      <td>4000</td>\n",
       "      <td>10.5</td>\n",
       "      <td>4.5</td>\n",
       "      <td>2</td>\n",
       "      <td>0.52</td>\n",
       "      <td>0.02</td>\n",
       "      <td>0.30</td>\n",
       "      <td>0.03</td>\n",
       "      <td>0.08</td>\n",
       "      <td>0.06</td>\n",
       "      <td>2.3140</td>\n",
       "      <td>14.914</td>\n",
       "      <td>0.43</td>\n",
       "      <td>60.180222</td>\n",
       "      <td>42000.0</td>\n",
       "    </tr>\n",
       "    <tr>\n",
       "      <th>4</th>\n",
       "      <td>5</td>\n",
       "      <td>1</td>\n",
       "      <td>NaN</td>\n",
       "      <td>5000</td>\n",
       "      <td>10.5</td>\n",
       "      <td>4.5</td>\n",
       "      <td>2</td>\n",
       "      <td>0.81</td>\n",
       "      <td>0.04</td>\n",
       "      <td>0.47</td>\n",
       "      <td>0.03</td>\n",
       "      <td>0.08</td>\n",
       "      <td>0.06</td>\n",
       "      <td>3.6045</td>\n",
       "      <td>29.828</td>\n",
       "      <td>0.43</td>\n",
       "      <td>60.180222</td>\n",
       "      <td>52500.0</td>\n",
       "    </tr>\n",
       "  </tbody>\n",
       "</table>\n",
       "</div>"
      ],
      "text/plain": [
       "   LINE  COMP TYPE   RPM  DIAMETER(IN)  PITCH(IN)  BLADE(nb)  THRUST(LBF)  \\\n",
       "0     1     1  NaN  1000          10.5        4.5          2         0.03   \n",
       "1     2     1  NaN  2000          10.5        4.5          2         0.13   \n",
       "2     3     1  NaN  3000          10.5        4.5          2         0.29   \n",
       "3     4     1  NaN  4000          10.5        4.5          2         0.52   \n",
       "4     5     1  NaN  5000          10.5        4.5          2         0.81   \n",
       "\n",
       "   POWER(HP)  TORQUE(IN.LBF)    Cp    Ct  AREA(m^2)  THRUST(N)  POWER(W)  \\\n",
       "0       0.01            0.02  0.03  0.08       0.06     0.1335     7.457   \n",
       "1       0.01            0.08  0.03  0.08       0.06     0.5785     7.457   \n",
       "2       0.01            0.17  0.03  0.08       0.06     1.2905     7.457   \n",
       "3       0.02            0.30  0.03  0.08       0.06     2.3140    14.914   \n",
       "4       0.04            0.47  0.03  0.08       0.06     3.6045    29.828   \n",
       "\n",
       "   ANGLE        EFF      N.D  \n",
       "0   0.43  60.180222  10500.0  \n",
       "1   0.43  60.180222  21000.0  \n",
       "2   0.43  60.180222  31500.0  \n",
       "3   0.43  60.180222  42000.0  \n",
       "4   0.43  60.180222  52500.0  "
      ]
     },
     "execution_count": 1,
     "metadata": {},
     "output_type": "execute_result"
    }
   ],
   "source": [
    "import pandas as pd\n",
    "\n",
    "# Read the .csv file with bearing data\n",
    "path='./data/'\n",
    "df = pd.read_csv(path+'APC_STATIC-data-all-props.csv', sep=';')\n",
    "# Print the head (first lines of the file)\n",
    "df.head()"
   ]
  },
  {
   "cell_type": "markdown",
   "metadata": {},
   "source": [
    "For next steps, we keep only the Multi-Rotor type propellers (MR). "
   ]
  },
  {
   "cell_type": "code",
   "execution_count": 2,
   "metadata": {},
   "outputs": [
    {
     "data": {
      "text/html": [
       "<div>\n",
       "<style scoped>\n",
       "    .dataframe tbody tr th:only-of-type {\n",
       "        vertical-align: middle;\n",
       "    }\n",
       "\n",
       "    .dataframe tbody tr th {\n",
       "        vertical-align: top;\n",
       "    }\n",
       "\n",
       "    .dataframe thead th {\n",
       "        text-align: right;\n",
       "    }\n",
       "</style>\n",
       "<table border=\"1\" class=\"dataframe\">\n",
       "  <thead>\n",
       "    <tr style=\"text-align: right;\">\n",
       "      <th></th>\n",
       "      <th>LINE</th>\n",
       "      <th>COMP</th>\n",
       "      <th>TYPE</th>\n",
       "      <th>RPM</th>\n",
       "      <th>DIAMETER(IN)</th>\n",
       "      <th>PITCH(IN)</th>\n",
       "      <th>BLADE(nb)</th>\n",
       "      <th>THRUST(LBF)</th>\n",
       "      <th>POWER(HP)</th>\n",
       "      <th>TORQUE(IN.LBF)</th>\n",
       "      <th>Cp</th>\n",
       "      <th>Ct</th>\n",
       "      <th>AREA(m^2)</th>\n",
       "      <th>THRUST(N)</th>\n",
       "      <th>POWER(W)</th>\n",
       "      <th>ANGLE</th>\n",
       "      <th>EFF</th>\n",
       "      <th>N.D</th>\n",
       "    </tr>\n",
       "  </thead>\n",
       "  <tbody>\n",
       "    <tr>\n",
       "      <th>135</th>\n",
       "      <td>147</td>\n",
       "      <td>8</td>\n",
       "      <td>MR</td>\n",
       "      <td>2000</td>\n",
       "      <td>10.0</td>\n",
       "      <td>4.5</td>\n",
       "      <td>2</td>\n",
       "      <td>0.14</td>\n",
       "      <td>0.01</td>\n",
       "      <td>0.09</td>\n",
       "      <td>0.04</td>\n",
       "      <td>0.11</td>\n",
       "      <td>0.05</td>\n",
       "      <td>0.6230</td>\n",
       "      <td>7.457</td>\n",
       "      <td>0.45</td>\n",
       "      <td>72.772802</td>\n",
       "      <td>20000.0</td>\n",
       "    </tr>\n",
       "    <tr>\n",
       "      <th>146</th>\n",
       "      <td>148</td>\n",
       "      <td>8</td>\n",
       "      <td>MR</td>\n",
       "      <td>3000</td>\n",
       "      <td>10.0</td>\n",
       "      <td>4.5</td>\n",
       "      <td>2</td>\n",
       "      <td>0.32</td>\n",
       "      <td>0.01</td>\n",
       "      <td>0.20</td>\n",
       "      <td>0.04</td>\n",
       "      <td>0.11</td>\n",
       "      <td>0.05</td>\n",
       "      <td>1.4240</td>\n",
       "      <td>7.457</td>\n",
       "      <td>0.45</td>\n",
       "      <td>72.772802</td>\n",
       "      <td>30000.0</td>\n",
       "    </tr>\n",
       "    <tr>\n",
       "      <th>147</th>\n",
       "      <td>149</td>\n",
       "      <td>8</td>\n",
       "      <td>MR</td>\n",
       "      <td>4000</td>\n",
       "      <td>10.0</td>\n",
       "      <td>4.5</td>\n",
       "      <td>2</td>\n",
       "      <td>0.57</td>\n",
       "      <td>0.02</td>\n",
       "      <td>0.36</td>\n",
       "      <td>0.04</td>\n",
       "      <td>0.11</td>\n",
       "      <td>0.05</td>\n",
       "      <td>2.5365</td>\n",
       "      <td>14.914</td>\n",
       "      <td>0.45</td>\n",
       "      <td>72.772802</td>\n",
       "      <td>40000.0</td>\n",
       "    </tr>\n",
       "    <tr>\n",
       "      <th>148</th>\n",
       "      <td>150</td>\n",
       "      <td>8</td>\n",
       "      <td>MR</td>\n",
       "      <td>5000</td>\n",
       "      <td>10.0</td>\n",
       "      <td>4.5</td>\n",
       "      <td>2</td>\n",
       "      <td>0.90</td>\n",
       "      <td>0.04</td>\n",
       "      <td>0.56</td>\n",
       "      <td>0.04</td>\n",
       "      <td>0.11</td>\n",
       "      <td>0.05</td>\n",
       "      <td>4.0050</td>\n",
       "      <td>29.828</td>\n",
       "      <td>0.45</td>\n",
       "      <td>72.772802</td>\n",
       "      <td>50000.0</td>\n",
       "    </tr>\n",
       "    <tr>\n",
       "      <th>149</th>\n",
       "      <td>151</td>\n",
       "      <td>8</td>\n",
       "      <td>MR</td>\n",
       "      <td>6000</td>\n",
       "      <td>10.0</td>\n",
       "      <td>4.5</td>\n",
       "      <td>2</td>\n",
       "      <td>1.29</td>\n",
       "      <td>0.08</td>\n",
       "      <td>0.79</td>\n",
       "      <td>0.04</td>\n",
       "      <td>0.11</td>\n",
       "      <td>0.05</td>\n",
       "      <td>5.7405</td>\n",
       "      <td>59.656</td>\n",
       "      <td>0.45</td>\n",
       "      <td>72.772802</td>\n",
       "      <td>60000.0</td>\n",
       "    </tr>\n",
       "  </tbody>\n",
       "</table>\n",
       "</div>"
      ],
      "text/plain": [
       "     LINE  COMP TYPE   RPM  DIAMETER(IN)  PITCH(IN)  BLADE(nb)  THRUST(LBF)  \\\n",
       "135   147     8   MR  2000          10.0        4.5          2         0.14   \n",
       "146   148     8   MR  3000          10.0        4.5          2         0.32   \n",
       "147   149     8   MR  4000          10.0        4.5          2         0.57   \n",
       "148   150     8   MR  5000          10.0        4.5          2         0.90   \n",
       "149   151     8   MR  6000          10.0        4.5          2         1.29   \n",
       "\n",
       "     POWER(HP)  TORQUE(IN.LBF)    Cp    Ct  AREA(m^2)  THRUST(N)  POWER(W)  \\\n",
       "135       0.01            0.09  0.04  0.11       0.05     0.6230     7.457   \n",
       "146       0.01            0.20  0.04  0.11       0.05     1.4240     7.457   \n",
       "147       0.02            0.36  0.04  0.11       0.05     2.5365    14.914   \n",
       "148       0.04            0.56  0.04  0.11       0.05     4.0050    29.828   \n",
       "149       0.08            0.79  0.04  0.11       0.05     5.7405    59.656   \n",
       "\n",
       "     ANGLE        EFF      N.D  \n",
       "135   0.45  72.772802  20000.0  \n",
       "146   0.45  72.772802  30000.0  \n",
       "147   0.45  72.772802  40000.0  \n",
       "148   0.45  72.772802  50000.0  \n",
       "149   0.45  72.772802  60000.0  "
      ]
     },
     "execution_count": 2,
     "metadata": {},
     "output_type": "execute_result"
    }
   ],
   "source": [
    "# Data Filtering\n",
    "df_MR=df[df['TYPE']=='MR']\n",
    "df_MR.head()"
   ]
  },
  {
   "cell_type": "markdown",
   "metadata": {},
   "source": [
    "We plot the $C_p$ and $C_t$ for the a 10x4.5 propeller (COMP n° 8 in the previous table). We can notice that these coefficients are constant up to a certain value of speed of rotation. The manufacturer recommends using these propellers for a product speed of rotation x diameter less than a limit (depending on the type of propeller technology) and given [here](https://www.apcprop.com/technical-information/rpm-limits/):  \n",
    "Maximum speed(RPM) x prop diameter (inches) = 105,000  \n",
    "for MR type which gives a blade tip speed of 135 m/s. The dark spots on the following diagram correspond to this non-recommended operating zone.\n",
    "\n",
    "> **Question:** Explain the origin of this operating limit comes from and the $\\pi$ number that can express it.\n"
   ]
  },
  {
   "cell_type": "markdown",
   "metadata": {},
   "source": [
    "**Answer:**\n",
    "\n",
    "The $\\frac{\\rho n^2D^2}{\\beta}$ dimensionless number is similar to Mach number $M_a=V/c$ with $c=\\sqrt{\\frac{\\beta}{\\rho}}$ the speed of sound:  \n",
    "$$\\frac{\\rho n^2D^2}{\\beta}=M_a^2$$\n"
   ]
  },
  {
   "cell_type": "code",
   "execution_count": 3,
   "metadata": {},
   "outputs": [
    {
     "data": {
      "text/plain": [
       "<Figure size 640x480 with 1 Axes>"
      ]
     },
     "metadata": {},
     "output_type": "display_data"
    }
   ],
   "source": [
    "# Keep only the component n°8\n",
    "df_8=df_MR[df_MR['COMP']==8]\n",
    "\n",
    "# Extract forbidden ND product\n",
    "df_8_ND=df_8[df_8['N.D']>105000]\n",
    "\n",
    "import numpy as np\n",
    "import matplotlib.pyplot as plt\n",
    "# plot the data \n",
    "plt.plot(df_8['RPM'],df_8['Cp'], 'bo',df_8['RPM'],df_8['Ct'], 'ro',)\n",
    "plt.plot(df_8_ND['RPM'],df_8_ND['Cp'], 'ko',df_8_ND['RPM'],df_8_ND['Ct'], 'ko',)\n",
    "plt.xlabel('Rotational Speed [RPM]')\n",
    "plt.ylabel('Cp (blue) and Ct (red)')\n",
    "plt.grid()\n",
    "plt.show()"
   ]
  },
  {
   "cell_type": "markdown",
   "metadata": {},
   "source": [
    "## Linear regression\n",
    "\n",
    "For next calculations, we keep only data with following criteria:\n",
    "-  Type 'MR' (Multi-Rotor)    \n",
    "-  Maximum RPM < 105,000/prop diameter (inches)"
   ]
  },
  {
   "cell_type": "code",
   "execution_count": 4,
   "metadata": {},
   "outputs": [],
   "source": [
    "# Keep only operating points with ND<105000\n",
    "df_MR_ND=df_MR[df_MR['N.D']<105000]"
   ]
  },
  {
   "cell_type": "markdown",
   "metadata": {},
   "source": [
    "The APC static data correspond to the hover operational point where the speed V=0. The aerodynamic coefficients are thus only a function of $Pitch/D$ (called 'ANGLE' in the .csv file) dimensionless number.\n",
    "\n",
    "$C_t=\\frac{T}{\\rho N^2 D^3}=f(\\frac{Pitch}{D})$  \n",
    "$C_p=\\frac{P}{\\rho N^3 D^5}=g(\\frac{Pitch}{D})$  \n",
    "\n",
    "The following code uses the [StatsModels](https://www.statsmodels.org/stable/index.html) package in order to set up a $C_t$ estimator for the static case ($V=0$ or $J=0$)."
   ]
  },
  {
   "cell_type": "code",
   "execution_count": 5,
   "metadata": {},
   "outputs": [
    {
     "name": "stdout",
     "output_type": "stream",
     "text": [
      "Parameters:  [0.04268687 0.14377908]\n",
      "R2:  0.8950315895208383\n"
     ]
    },
    {
     "data": {
      "image/png": "[encoded data removed]",
      "text/plain": [
       "<Figure size 432x288 with 1 Axes>"
      ]
     },
     "metadata": {
      "needs_background": "light"
     },
     "output_type": "display_data"
    },
    {
     "name": "stdout",
     "output_type": "stream",
     "text": [
      "Ct estimation model : Ct=4.27e-02 + 1.44e-01 * Pitch/D \n"
     ]
    }
   ],
   "source": [
    "# Determination of the least squares estimator with the OLS function \n",
    "# of the SatsModels package\n",
    "\n",
    "import statsmodels.api as sm\n",
    "\n",
    "# Data\n",
    "x=df_MR_ND['ANGLE'].values\n",
    "y_Ct=df_MR_ND['Ct'].values\n",
    "y_Cp=df_MR_ND['Cp'].values\n",
    "\n",
    "\n",
    "# Matrix X and Y\n",
    "X=np.concatenate((np.ones(np.size(x)).reshape(np.size(x),1),x.reshape(np.size(x),1)), axis=1)\n",
    "\n",
    "Y_Ct=y_Ct.reshape((np.size(x),1))\n",
    "Y_Cp=y_Cp.reshape((np.size(x),1))\n",
    "\n",
    "# OLS regression\n",
    "model_Ct = sm.OLS(Y_Ct, X)\n",
    "model_Cp = sm.OLS(Y_Cp, X)\n",
    "\n",
    "result_Ct = model_Ct.fit()\n",
    "result_Cp = model_Cp.fit()\n",
    "\n",
    "# Ct Parameters \n",
    "# ----\n",
    "print('Parameters: ', result_Ct.params)\n",
    "print('R2: ', result_Ct.rsquared)\n",
    "\n",
    "# Y vector prediction\n",
    "Ct_OLS=result_Ct.predict(X)\n",
    "\n",
    "# plot the data \n",
    "plt.plot(x,y_Ct, 'o',x,Ct_OLS, '-g')\n",
    "plt.xlabel('Pitch/Diameter  ratio')\n",
    "plt.ylabel('Ct')\n",
    "plt.title('Comparison of original data (circles) and OLS regression (green)')\n",
    "plt.grid()\n",
    "plt.show()\n",
    "\n",
    "print(\"Ct estimation model : Ct=%.2e + %.2e * Pitch/D \"%(result_Ct.params[0],result_Ct.params[1]))\n",
    "\n"
   ]
  },
  {
   "cell_type": "markdown",
   "metadata": {},
   "source": [
    "> **Exercice**: Produce an OLS (Ordinary Least Square) regression of $C_p$ data. "
   ]
  },
  {
   "cell_type": "code",
   "execution_count": 6,
   "metadata": {},
   "outputs": [
    {
     "name": "stdout",
     "output_type": "stream",
     "text": [
      "Parameters:  [-0.00147773  0.09718302]\n",
      "R2:  0.7983614111956401\n"
     ]
    },
    {
     "data": {
      "image/png": "[encoded data removed]",
      "text/plain": [
       "<Figure size 432x288 with 1 Axes>"
      ]
     },
     "metadata": {
      "needs_background": "light"
     },
     "output_type": "display_data"
    },
    {
     "name": "stdout",
     "output_type": "stream",
     "text": [
      "Cp estimation model : Cp=-1.48e-03 + 9.72e-02 * Pitch/D \n"
     ]
    }
   ],
   "source": [
    "y_Cp=df_MR_ND['Cp'].values\n",
    "model_Cp = sm.OLS(Y_Cp, X)\n",
    "\n",
    "# Cp Parameters \n",
    "# -----\n",
    "print('Parameters: ', result_Cp.params)\n",
    "print('R2: ', result_Cp.rsquared)\n",
    "\n",
    "# Y vector prediction\n",
    "Cp_OLS=result_Cp.predict(X)\n",
    "\n",
    "# plot the data \n",
    "plt.plot(x,y_Cp, 'o',x,Cp_OLS, '-g')\n",
    "plt.xlabel('Pitch/Diameter  ratio')\n",
    "plt.ylabel('Cp')\n",
    "plt.title('Comparison of original data (blue circles) and OLS regression (green)')\n",
    "plt.grid()\n",
    "plt.show()\n",
    "\n",
    "print(\"Cp estimation model : Cp=%.2e + %.2e * Pitch/D \"%(result_Cp.params[0],result_Cp.params[1]))"
   ]
  },
  {
   "cell_type": "code",
   "execution_count": null,
   "metadata": {},
   "outputs": [],
   "source": []
  },
  {
   "cell_type": "code",
   "execution_count": null,
   "metadata": {},
   "outputs": [],
   "source": []
  }
 ],
 "metadata": {
  "kernelspec": {
   "display_name": "Python 3",
   "language": "python",
   "name": "python3"
  },
  "language_info": {
   "codemirror_mode": {
    "name": "ipython",
    "version": 3
   },
   "file_extension": ".py",
   "mimetype": "text/x-python",
   "name": "python",
   "nbconvert_exporter": "python",
   "pygments_lexer": "ipython3",
   "version": "3.7.1"
  }
 },
 "nbformat": 4,
 "nbformat_minor": 2
}
