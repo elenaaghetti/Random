{
 "cells": [
  {
   "cell_type": "markdown",
   "metadata": {
    "slideshow": {
     "slide_type": "slide"
    }
   },
   "source": [
    "<img src=\"./pictures/logo-insa.png\" style=\"float:right; max-width: 60px; display: inline\" alt=\"INSA\" /></a>"
   ]
  },
  {
   "cell_type": "markdown",
   "metadata": {
    "slideshow": {
     "slide_type": "slide"
    }
   },
   "source": [
    "# Frame selection\n",
    "*Written by Marc Budinger, INSA Toulouse, France*"
   ]
  },
  {
   "cell_type": "markdown",
   "metadata": {
    "slideshow": {
     "slide_type": "slide"
    }
   },
   "source": [
    "## Design graph \n",
    "\n",
    "The following diagram represents the design graph of the frame selection. \n",
    "\n",
    "\n",
    "![DesignGraph](pictures/FrameDesignGraph.png)\n",
    "\n",
    "> **Questions:**\n",
    "* Give the main sizing problems you are able to detect.\n",
    "* Propose one or multiple solutions (which can request equation manipulation, addition of design variables, addition of constraints) \n",
    "* Orientate the arrows\n",
    "* Give equations order, inputs/outputs at each step of this part of sizing procedure\n",
    "\n"
   ]
  },
  {
   "cell_type": "markdown",
   "metadata": {},
   "source": [
    "### Sizing code and optimization\n",
    "\n",
    "> Exercice: propose a sizing code for the selection of the frame.\n"
   ]
  },
  {
   "cell_type": "code",
   "execution_count": 1,
   "metadata": {},
   "outputs": [],
   "source": [
    "from utils.model_standard import CoreModel\n",
    "from utils.model_serializer import ModelSerializer"
   ]
  },
  {
   "cell_type": "code",
   "execution_count": 2,
   "metadata": {},
   "outputs": [],
   "source": [
    "import math\n",
    "from math import pi\n",
    "from math import sin\n",
    "import scipy\n",
    "\n",
    "class FrameModel(CoreModel):\n",
    "    \"\"\"\n",
    "    Frame model class.\n",
    "    ----------\n",
    "    \"\"\"\n",
    "\n",
    "    def __init__(self, **kwargs):\n",
    "        super(FrameModel, self).__init__(**kwargs)\n",
    "        self.initialization()\n",
    "        self.execute()\n",
    "        self._update()\n",
    "\n",
    "    def initialization(self):\n",
    "        \n",
    "        # Input variables\n",
    "        inputs = {'Narm': 4.0, 'Dpro': 1.0, 'Np_arm': 1.0, 'Tpro_takeoff': 15.0, 'k_frame': 0.1}\n",
    "        self.set_inputs(inputs)\n",
    "        \n",
    "        # Input parameters\n",
    "        \n",
    "        # Static stress\n",
    "        # Sigma_max=200e6/4 # [Pa] Alu max stress (2 reduction for dynamic, 2 reduction for stress concentration)\n",
    "        Sigma_max=280e6/4 # [Pa] Composite max stress (2 reduction for dynamic, 2 reduction for stress concentration)\n",
    "        \n",
    "        inputs = {'Sigma_max': Sigma_max}\n",
    "        self.set_inputs(inputs)\n",
    "        \n",
    "        # Declare outputs\n",
    "        outputs = ['sep', 'Lb', 'Dfra', 'Efra', 'Mfra']   \n",
    "        self.declare_outputs(outputs)\n",
    "\n",
    "    def execute(self):\n",
    "        \n",
    "        # Get input values\n",
    "        Narm, Dpro, Np_arm, Tpro_takeoff, k_frame = self.get_values(['Narm', 'Dpro', 'Np_arm', 'Tpro_takeoff', 'k_frame'])\n",
    "        Sigma_max = self.get_values(['Sigma_max'])\n",
    "\n",
    "        #######\n",
    "        \n",
    "        Lb = Dpro/(2*scipy.sin(pi/Narm))\n",
    "        \n",
    "        d = ((Tpro_takeoff*Np_arm*Lb*0.5*(1/k_frame))/(pi/64 * Sigma_max*((1/k_frame)**4 - 1)))**(1/3)  #diametre interieur du tube\n",
    "             \n",
    "        Dfra = d / k_frame\n",
    "        Efra = (Dfra - d)/2\n",
    "        Vfra = Lb*pi/4*(Dfra**2 - d**2)  #Volume tube\n",
    "        \n",
    "        Mfra = Vfra*1700 #rho_composite = 1700 kg/m**3\n",
    "        sep = 2*pi/Narm\n",
    "        \n",
    "        #######\n",
    "    \n",
    "        outputs = {'sep': sep, 'Lb': Lb, 'Dfra': Dfra, 'Efra': Efra, 'Mfra': Mfra}\n",
    "        self.set_outputs(outputs)\n",
    "                \n",
    "    def __str__(self):\n",
    "        \n",
    "        s =((\"* Frame informations: \\n\") +\n",
    "            (\"** Global: \\n\") + \n",
    "            (\"    Frame mass = %.2f kg\" %(self.get_values(['Mfra'])) + \"\\n\") +\n",
    "            (\"** Geometry: \\n\") +\n",
    "            (\"    Beam diameter = %.2f mm\" %(self.get_values(['Dfra'])*1000) + \"\\n\") + \n",
    "            (\"    Thickness = %.2f mm\" % (self.get_values(['Efra'])*1000) + \"\\n\") + \n",
    "            (\"    Length of the arm = %.2f mm\" % (self.get_values(['Lb'])*1000) + \"\\n\") +\n",
    "            (\"    Interior angle / separation between propellers = %.2f °\" % (self.get_values(['sep'])*180/pi)+ \"\\n\")\n",
    "           )\n",
    "        return s\n",
    "        "
   ]
  },
  {
   "cell_type": "code",
   "execution_count": 3,
   "metadata": {},
   "outputs": [
    {
     "name": "stdout",
     "output_type": "stream",
     "text": [
      "* Frame informations: \n",
      "** Global: \n",
      "    Frame mass = 0.12 kg\n",
      "** Geometry: \n",
      "    Beam diameter = 11.56 mm\n",
      "    Thickness = 5.20 mm\n",
      "    Length of the arm = 707.11 mm\n",
      "    Interior angle / separation between propellers = 90.00 °\n",
      "\n"
     ]
    }
   ],
   "source": [
    "frame_model = FrameModel()\n",
    "\n",
    "print(frame_model)\n",
    "\n",
    "ms = ModelSerializer()\n",
    "path = './models_student/'\n",
    "file_name = 'frame_model'\n",
    "ms.save_model(frame_model, path + file_name)"
   ]
  },
  {
   "cell_type": "code",
   "execution_count": 4,
   "metadata": {},
   "outputs": [
    {
     "name": "stdout",
     "output_type": "stream",
     "text": [
      "* Frame informations: \n",
      "** Global: \n",
      "    Frame mass = 0.12 kg\n",
      "** Geometry: \n",
      "    Beam diameter = 11.56 mm\n",
      "    Thickness = 5.20 mm\n",
      "    Length of the arm = 707.11 mm\n",
      "    Interior angle / separation between propellers = 90.00 °\n",
      "\n",
      "* Frame informations: \n",
      "** Global: \n",
      "    Frame mass = 0.18 kg\n",
      "** Geometry: \n",
      "    Beam diameter = 13.70 mm\n",
      "    Thickness = 6.17 mm\n",
      "    Length of the arm = 707.11 mm\n",
      "    Interior angle / separation between propellers = 90.00 °\n",
      "\n"
     ]
    }
   ],
   "source": [
    "print(frame_model)\n",
    "\n",
    "inputs = {'Tpro_takeoff': 25.0}\n",
    "\n",
    "frame_model.evaluate(inputs, [])\n",
    "\n",
    "print(frame_model)"
   ]
  },
  {
   "cell_type": "markdown",
   "metadata": {
    "slideshow": {
     "slide_type": "-"
    }
   },
   "source": [
    "### Commentaires sur le frame : \n",
    "On peut voir que la masse de la structure est très faible et ne représentera pas un un fort pourcentage de la masse totale du drone. Cela laisse à penser qu'un gain de masse sur la structure, par exemple via un nouveau matériau composite plus léger, serait certe bénéfique pour la masse totale du drone mais n'aurait pas un impact déterminant. Il est sûrement plus intéressant de concentrer les efforts de développement sur les batteries.\n",
    "\n",
    "\n",
    "- la poussée de l'hélice et le poids vont dimensionner les contraintes en flexion des poutres de la structure ; on arrive donc à un compromis pour la masse en considérant efforts et contraintes\n",
    "- la phase dimensionnante est celle de forte accélération, donc de take-off\n",
    "- on prend un coefficient de sécurité pour le dimensionnement en fatigue\n",
    "- pour les vibrations : il ne faut pas exciter à une fréquence de résonnance de l'airframe avec la fréquence du moteur, qui doivent rester différentes pour ne pas avoir de phénomène vibratoire\n"
   ]
  },
  {
   "cell_type": "code",
   "execution_count": null,
   "metadata": {},
   "outputs": [],
   "source": []
  },
  {
   "cell_type": "code",
   "execution_count": null,
   "metadata": {},
   "outputs": [],
   "source": []
  }
 ],
 "metadata": {
  "celltoolbar": "Slideshow",
  "kernelspec": {
   "display_name": "Python 3",
   "language": "python",
   "name": "python3"
  },
  "language_info": {
   "codemirror_mode": {
    "name": "ipython",
    "version": 3
   },
   "file_extension": ".py",
   "mimetype": "text/x-python",
   "name": "python",
   "nbconvert_exporter": "python",
   "pygments_lexer": "ipython3",
   "version": "3.7.1"
  }
 },
 "nbformat": 4,
 "nbformat_minor": 2
}
