{
 "cells": [
  {
   "cell_type": "markdown",
   "metadata": {
    "slideshow": {
     "slide_type": "slide"
    }
   },
   "source": [
    "<img src=\"./pictures/logo-insa.png\" style=\"float:right; max-width: 60px; display: inline\" alt=\"INSA\" /></a>"
   ]
  },
  {
   "cell_type": "markdown",
   "metadata": {
    "slideshow": {
     "slide_type": "slide"
    }
   },
   "source": [
    "# Battery and ESC selection\n",
    "*Written by Marc Budinger, INSA Toulouse, France*"
   ]
  },
  {
   "cell_type": "markdown",
   "metadata": {
    "slideshow": {
     "slide_type": "slide"
    }
   },
   "source": [
    "## Design graph \n",
    "\n",
    "The following diagram represents the design graph of the battery and ESC selection.\n",
    "\n",
    "\n",
    "![DesignGraph](pictures/ESCBatteryDesignGraph.png)\n",
    "\n",
    "> **Questions:**\n",
    "* Recall the main equations to take into account during ESC and battery selection\n",
    "* Orientate the arrows\n",
    "* Give equations order, inputs/outputs at each step of this part of sizing procedure\n",
    "\n"
   ]
  },
  {
   "cell_type": "markdown",
   "metadata": {},
   "source": [
    "### Sizing code and optimization\n",
    "\n",
    "> Exercice: propose a sizing code for the selection of a battery and ESC.\n"
   ]
  },
  {
   "cell_type": "code",
   "execution_count": 1,
   "metadata": {},
   "outputs": [],
   "source": [
    "from utils.model_standard import CoreModel\n",
    "from utils.model_serializer import ModelSerializer"
   ]
  },
  {
   "cell_type": "code",
   "execution_count": 2,
   "metadata": {},
   "outputs": [],
   "source": [
    "import math\n",
    "class BatteryModel(CoreModel):\n",
    "    \"\"\"\n",
    "    Battery model class.\n",
    "    ----------\n",
    "    \"\"\"\n",
    "\n",
    "    def __init__(self, **kwargs):\n",
    "        super(BatteryModel, self).__init__(**kwargs)\n",
    "        self.initialization()\n",
    "        self.execute()\n",
    "        self._update()\n",
    "\n",
    "    def initialization(self):\n",
    "        \n",
    "        # Input variables\n",
    "        inputs = {'V_bat_est': 1.0, 'k_Mb': 1.0, 'M_load': 1.0, 'P_el_hover': 1.0, 'P_el_takeoff': 1.0, 'Umot_takeoff': 1.0, 'Npro': 1.0}\n",
    "        self.set_inputs(inputs)\n",
    "        \n",
    "        # Input parameters\n",
    "        \n",
    "        # Ref : MK-quadro\n",
    "        Mbat_ref=.329 # [kg] mass\n",
    "        Ebat_ref=220*3600*.329 # [J]\n",
    "        \n",
    "        # Ref : Turnigy K_Force 70HV \n",
    "        Pesc_ref=3108 # [W] Power\n",
    "        Mesc_ref=.115 # [kg] Mass\n",
    "        \n",
    "        inputs = {'Mbat_ref': Mbat_ref, 'Ebat_ref': Ebat_ref, 'Pesc_ref': Pesc_ref, 'Mesc_ref': Mesc_ref}\n",
    "        self.set_inputs(inputs)\n",
    "        \n",
    "        # Declare outputs\n",
    "        outputs = ['Ncel', 'V_bat', 'Mbat', 'Ebat', 'C_bat', 'I_bat', 't_hf', 'P_esc', 'Mesc', 'Vesc']   \n",
    "        self.declare_outputs(outputs)\n",
    "\n",
    "    def execute(self):\n",
    "        \n",
    "        # Get input values\n",
    "        V_bat_est, k_Mb, M_load, P_el_hover, P_el_takeoff, Umot_takeoff, Npro = self.get_values(['V_bat_est', 'k_Mb', 'M_load', 'P_el_hover', 'P_el_takeoff', 'Umot_takeoff', 'Npro'])\n",
    "        Mbat_ref, Ebat_ref, Pesc_ref, Mesc_ref = self.get_values(['Mbat_ref', 'Ebat_ref', 'Pesc_ref', 'Mesc_ref'])\n",
    "        \n",
    "        #####\n",
    "        \n",
    "        ## Caractéristiques Batterie\n",
    "        Mbat=k_Mb*M_load; #On estime la masse de la batterie par rapport à la masse de chargement utile recherchée, \n",
    "        #les 2 valeurs sont en effet corrélées. Le facteur de dimensionnement k_Mb est ensuite adapté par l'optimisation\n",
    "        Ebat=Ebat_ref*(Mbat/Mbat_ref); # On calcule l'énergie embarquée dans la batterie par loi d'échelle. La relation entre\n",
    "        # masse et énergie est en effet linéaire, c'est la densité massique d'énergie de la batterie. Cette valeur influencera directement \n",
    "        # la durée du vol\n",
    "        # On dimensionne ensuite les caractéristiques de la batterie en fonction de la puissance requise au décollage\n",
    "        # On commence par l'intensité, et cela impacte directement la structure de la batterie, le nombre de \"packs\"\n",
    "        # (nombre de cellules en série et en parallèle pour fournir l'intensité et la tension nécessaires)\n",
    "        I_bat=(P_el_takeoff*Npro)/(0.95*V_bat_est);\n",
    "        Ncel=int(V_bat_est/3.7)+1;\n",
    "        V_bat=Ncel*3.7;\n",
    "        C_bat=Ebat/3600/V_bat; #on veut la capacité en A*h\n",
    "        # En fonction de ces caractéristiques, on peut calculer l'autonomie de la batterie, le facteur 0.8 exprime le fait qu'on ne\n",
    "        # peut décharger au maximum que 80% de l'énergie de la batterie pour éviter de l'endommager\n",
    "        t_hf=0.8*(C_bat/I_bat)*60;\n",
    "        \n",
    "        ## Caractéristiques Electronique de puissance\n",
    "        # La puissance maximale traitée par les élements d'électronique de puissance doit être au moins égale\n",
    "        # à la puissance nécessaire au décollage (qui est le pic de puissance requise pendant un vol)\n",
    "        P_esc=P_el_takeoff;\n",
    "        Mesc=Mesc_ref*(P_esc/Pesc_ref); # à partir des valeurs de puissance, on calcule directement les valeurs de masse\n",
    "        # par loi d'échelle, la relation est linéaire (c'est la densité massique de puissance)\n",
    "        Vesc=1.84*P_esc**0.36;\n",
    "        \n",
    "        #####\n",
    "    \n",
    "        outputs = {'Ncel': Ncel, 'V_bat': V_bat, 'Mbat': Mbat, 'Ebat': Ebat, 'C_bat': C_bat, 'I_bat': I_bat,'t_hf': t_hf, 'P_esc': P_esc, 'Mesc': Mesc, 'Vesc': Vesc}\n",
    "        self.set_outputs(outputs)\n",
    "                \n",
    "    def __str__(self):\n",
    "        \n",
    "        s =((\"* Battery informations: \\n\") +\n",
    "            (\"** Global: \\n\") + \n",
    "            (\"    Battery capacity = %.2f A.h\" %(self.get_values(['C_bat'])/3600) + \"\\n\") +\n",
    "            (\"    Battery voltage = %.2f V\" %(self.get_values(['V_bat'])) + \"\\n\") +\n",
    "            (\"    Battery voltage estimated= %.2f V\" %(self.get_values(['V_bat_est'])) + \"\\n\") +\n",
    "            (\"    Battery current (hover) estimated= %.2f A\" %(self.get_values(['I_bat'])) + \"\\n\") +\n",
    "            (\"* ESC informations: \\n\") +\n",
    "            (\"** Global: \\n\") +\n",
    "            (\"    ESC power estimated= %.2f W\" %(self.get_values(['P_esc'])) + \"\\n\") + \n",
    "            (\"    ESC mass estimated= %.2f kg\" %(self.get_values(['Mesc'])) + \"\\n\") + \n",
    "            (\"    ESC voltage estimated= %.2f V\" %(self.get_values(['Vesc'])) + \"\\n\")\n",
    "           )\n",
    "        return s\n",
    "        "
   ]
  },
  {
   "cell_type": "code",
   "execution_count": 3,
   "metadata": {},
   "outputs": [
    {
     "name": "stdout",
     "output_type": "stream",
     "text": [
      "* Battery informations: \n",
      "** Global: \n",
      "    Battery capacity = 0.02 A.h\n",
      "    Battery voltage = 3.70 V\n",
      "    Battery voltage estimated= 1.00 V\n",
      "    Battery current (hover) estimated= 1.05 A\n",
      "* ESC informations: \n",
      "** Global: \n",
      "    ESC power estimated= 1.00 W\n",
      "    ESC mass estimated= 0.00 kg\n",
      "    ESC voltage estimated= 1.84 V\n",
      "\n"
     ]
    }
   ],
   "source": [
    "battery_model = BatteryModel()\n",
    "\n",
    "print(battery_model)\n",
    "\n",
    "ms = ModelSerializer()\n",
    "path = './models_student/'\n",
    "file_name = 'battery_model'\n",
    "ms.save_model(battery_model, path + file_name)"
   ]
  },
  {
   "cell_type": "code",
   "execution_count": 4,
   "metadata": {},
   "outputs": [
    {
     "name": "stdout",
     "output_type": "stream",
     "text": [
      "* Battery informations: \n",
      "** Global: \n",
      "    Battery capacity = 0.02 A.h\n",
      "    Battery voltage = 3.70 V\n",
      "    Battery voltage estimated= 1.00 V\n",
      "    Battery current (hover) estimated= 1.05 A\n",
      "* ESC informations: \n",
      "** Global: \n",
      "    ESC power estimated= 1.00 W\n",
      "    ESC mass estimated= 0.00 kg\n",
      "    ESC voltage estimated= 1.84 V\n",
      "\n",
      "* Battery informations: \n",
      "** Global: \n",
      "    Battery capacity = 0.02 A.h\n",
      "    Battery voltage = 3.70 V\n",
      "    Battery voltage estimated= 1.00 V\n",
      "    Battery current (hover) estimated= 1.05 A\n",
      "* ESC informations: \n",
      "** Global: \n",
      "    ESC power estimated= 1.00 W\n",
      "    ESC mass estimated= 0.00 kg\n",
      "    ESC voltage estimated= 1.84 V\n",
      "\n"
     ]
    }
   ],
   "source": [
    "print(battery_model)\n",
    "\n",
    "inputs = {'Pel_takeoff': 25.0}\n",
    "\n",
    "battery_model.evaluate(inputs, [])\n",
    "\n",
    "print(battery_model)"
   ]
  },
  {
   "cell_type": "markdown",
   "metadata": {},
   "source": [
    "### Commentaire sur l'ESC : \n",
    "- fonction : convertisseur DC/AC avec un onduleur et de la modulation de largeur d'impulsion\n",
    "- risque d'être trop petit pour avoir une tension suffisante ; le courant est limité par les pertes et donc la surchauffe\n",
    "- il faut une capacité de puissance satisfaisante et une constante de temps correspondante\n",
    "- le take-off est la phase dimensionnante à cause des considérations thermiques\n",
    "\n",
    "### Commentaires sur la batterie : \n",
    "- les limitations peuvent être apportées par la densité d'énergie massique et la puissance massique \n",
    "- il faut choisir une batterie typée puissance (cas take-off dimensionnant) ou énergie (cas vol horizontal dimensionnant)"
   ]
  },
  {
   "cell_type": "code",
   "execution_count": null,
   "metadata": {},
   "outputs": [],
   "source": []
  },
  {
   "cell_type": "code",
   "execution_count": null,
   "metadata": {},
   "outputs": [],
   "source": []
  }
 ],
 "metadata": {
  "celltoolbar": "Slideshow",
  "kernelspec": {
   "display_name": "Python 3",
   "language": "python",
   "name": "python3"
  },
  "language_info": {
   "codemirror_mode": {
    "name": "ipython",
    "version": 3
   },
   "file_extension": ".py",
   "mimetype": "text/x-python",
   "name": "python",
   "nbconvert_exporter": "python",
   "pygments_lexer": "ipython3",
   "version": "3.7.1"
  }
 },
 "nbformat": 4,
 "nbformat_minor": 2
}
