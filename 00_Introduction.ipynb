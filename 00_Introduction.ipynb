{
 "cells": [
  {
   "cell_type": "markdown",
   "metadata": {
    "slideshow": {
     "slide_type": "slide"
    }
   },
   "source": [
    "<img src=\"./pictures/logo-insa.png\" style=\"float:right; max-width: 60px; display: inline\" alt=\"INSA\" /></a>\n"
   ]
  },
  {
   "cell_type": "markdown",
   "metadata": {
    "slideshow": {
     "slide_type": "slide"
    }
   },
   "source": [
    "# Sizing of multi-rotor drones\n",
    "\n",
    "*This set of documents aims at to give an introduction on the use of Python and Jupyter notebooks for the sizing of multi-rotor drones.*\n",
    "\n",
    "*Written by Marc Budinger, INSA Toulouse, France*\n"
   ]
  },
  {
   "cell_type": "markdown",
   "metadata": {
    "slideshow": {
     "slide_type": "slide"
    }
   },
   "source": [
    "### Table of contents\n",
    "\n",
    "##### Architecture & sizing scenarios\n",
    "1. [Case study and architecture presentation](01_CaseStudy.ipynb) \n",
    "2. [Sizing scenarios definitions](02_SizingScenariosDefinitions.ipynb)\n",
    "3. [Sizing scenarios equations](03_SizingScenariosEquations.ipynb)- [Student version](03_SizingScenariosEquations-Student.ipynb)\n",
    "\n",
    "##### Estimation models \n",
    "1. [Scaling laws of electrical components](04_ScalingLawsElectricalComponents.ipynb) - [Student version](04_ScalingLawsElectricalComponents-Student.ipynb)\n",
    "2. [Linear regression of propellers data](05_PropellerLinearRegression.ipynb) - [Student version](05_PropellerLinearRegression-Student.ipynb)\n",
    "\n",
    "##### Component sizing code  \n",
    "0. [Introduction](06_SizingModelsIntroduction.ipynb)  \n",
    "    a. [Propeller Student version](06a_PropellerSelection-student.ipynb)\n",
    "    \n",
    "    b. [Motor Student version](06b_MotorSelection-student.ipynb)\n",
    "    \n",
    "    c. [Battery and ESC Student version](06c_BatteryESCSelection-student.ipynb)\n",
    "    \n",
    "    d. [Frame Student version](06d_FrameSelection-student.ipynb)\n",
    "\n",
    "##### System sizing code and optimization  \n",
    "1. [Drone Sizing Code and Optimization](07_SystemSizingCodeOptimization.ipynb) - [Student version](07_SystemSizingCodeOptimization-student.ipynb)\n",
    "\n"
   ]
  },
  {
   "cell_type": "markdown",
   "metadata": {
    "slideshow": {
     "slide_type": "slide"
    }
   },
   "source": [
    "### Remarks\n",
    "\n",
    "This document has been written with Jupyter Notebook. The Jupyter Notebook is an open-source web application that allows you to create and share documents that contain live code, equations, visualizations and narrative text. \n",
    "\n",
    "More informations about Jupyter can be found [here](http://jupyter.org/).\n",
    "\n",
    "The \"live\" code is python 3 with numpy, scipy packages. Jupyter and a lot of scientific packages are included in the [Anaconda](https://www.anaconda.com/what-is-anaconda/) python distribution.\n",
    "\n",
    "Additional package to install:\n",
    "\n",
    "*pip install --user cloudpickle*\n",
    "\n",
    "The narrative text is formatting with markdown section. Here is a short tutorial about the use of the [markdown](http://www.markdowntutorial.com) standard.  \n",
    "\n",
    "[RISE](https://github.com/damianavila/RISE) allows you to instantly turn your Jupyter Notebooks into a slideshow.  \n",
    "[Panda](https://pandoc.org/) enables to [convert](https://mrjoe.uk/convert-markdown-to-word-document/) markdown file into word documents:  \n",
    "\n",
    "*pandoc -o output.docx -f markdown -t docx filename.md*\n",
    "\n",
    "\n"
   ]
  },
  {
   "cell_type": "code",
   "execution_count": null,
   "metadata": {},
   "outputs": [],
   "source": []
  }
 ],
 "metadata": {
  "celltoolbar": "Slideshow",
  "kernelspec": {
   "display_name": "Python 3",
   "language": "python",
   "name": "python3"
  },
  "language_info": {
   "codemirror_mode": {
    "name": "ipython",
    "version": 3
   },
   "file_extension": ".py",
   "mimetype": "text/x-python",
   "name": "python",
   "nbconvert_exporter": "python",
   "pygments_lexer": "ipython3",
   "version": "3.6.4"
  }
 },
 "nbformat": 4,
 "nbformat_minor": 2
}
